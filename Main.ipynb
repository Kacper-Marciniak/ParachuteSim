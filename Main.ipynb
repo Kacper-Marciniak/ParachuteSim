{
 "cells": [
  {
   "cell_type": "code",
   "execution_count": null,
   "metadata": {},
   "outputs": [],
   "source": [
    "from CParachute import CParachute, calculateDiameterVelocityRelationship\n",
    "import numpy as np\n",
    "import matplotlib.pyplot as plt"
   ]
  },
  {
   "cell_type": "markdown",
   "metadata": {},
   "source": [
    "## CANOPY DIAMETER - VELOCITY RELATIONSHIP"
   ]
  },
  {
   "cell_type": "code",
   "execution_count": null,
   "metadata": {},
   "outputs": [],
   "source": [
    "MASS = 20.0\n",
    "TARGET_VELOCITY = 12.0\n",
    "N_SAMPLES = 50\n",
    "\n",
    "aVelocity, aDiameters = calculateDiameterVelocityRelationship(\n",
    "    fMass=MASS,\n",
    "    tVelocityRange=(5, 25),\n",
    "    iSamples=N_SAMPLES\n",
    ")\n",
    "\n",
    "fDiameter = aDiameters[np.argmin(np.abs(aVelocity-TARGET_VELOCITY))]\n",
    "\n",
    "fig, ax = plt.subplots()\n",
    "\n",
    "ax.plot(aVelocity, aDiameters, color=\"blue\")\n",
    "\n",
    "plt.axvline(TARGET_VELOCITY, linewidth=1, linestyle='--', color='red')\n",
    "plt.axhline(fDiameter, linewidth=1, linestyle='--', color='red')\n",
    "\n",
    "ax.set_xlabel(\"Target descent velocity [m/s]\")\n",
    "ax.set_ylabel(\"Parachute canopy diameter [m]\")\n",
    "ax.grid(True)\n",
    "\n",
    "fig.tight_layout() \n",
    "plt.show()\n",
    "\n",
    "print(f\"\"\"\n",
    "Vehicle total mass: {MASS} kg.\n",
    "Target descent velocity: {TARGET_VELOCITY} kg.\n",
    "Parachute canopy diameter: {round(fDiameter,3)} m.\n",
    "\"\"\")\n"
   ]
  },
  {
   "cell_type": "markdown",
   "metadata": {},
   "source": [
    "## PEAK OPENING LOAD CALCULATION\n",
    "\n",
    "Enter the weight of the vehicle and one or both of the other parameters (parachute canopy diameter, target velocity).\n",
    "If you specify only one of them, the other will be automatically determined (*recommended option*)."
   ]
  },
  {
   "cell_type": "code",
   "execution_count": null,
   "metadata": {},
   "outputs": [],
   "source": [
    "MASS = 20.0\n",
    "TARGET_VELOCITY = 12.0 # float or None\n",
    "CANOPY_DIAMETER = None # float or None\n",
    "\n",
    "cParachute = CParachute(\n",
    "    fCanopyDiameter = CANOPY_DIAMETER,\n",
    "    fOpenInitVelocity = TARGET_VELOCITY,\n",
    "    fMass = MASS\n",
    ")\n",
    "data = cParachute.getPeakOpeningLoad()\n",
    "\n",
    "print(f\"\"\"\n",
    "Vehicle total mass: {cParachute.fMass} kg.\n",
    "Parachute canopy diameter: {round(cParachute.fCanopyDiameter,3)} m.\n",
    "Parachute inflation time: {round(cParachute.fInflationTime,3)} s.\n",
    "Peak opening load:\n",
    "\\t* simplified method: {round(data['simplified'],1)} N\n",
    "\\t* Pflanz method: {round(data['pflanz'],1)} N\n",
    "\\t* OSCALC method: {round(data['oscalc'],1)} N\n",
    "\"\"\")"
   ]
  }
 ],
 "metadata": {
  "kernelspec": {
   "display_name": "Python 3",
   "language": "python",
   "name": "python3"
  },
  "language_info": {
   "codemirror_mode": {
    "name": "ipython",
    "version": 3
   },
   "file_extension": ".py",
   "mimetype": "text/x-python",
   "name": "python",
   "nbconvert_exporter": "python",
   "pygments_lexer": "ipython3",
   "version": "3.11.4"
  },
  "orig_nbformat": 4
 },
 "nbformat": 4,
 "nbformat_minor": 2
}
